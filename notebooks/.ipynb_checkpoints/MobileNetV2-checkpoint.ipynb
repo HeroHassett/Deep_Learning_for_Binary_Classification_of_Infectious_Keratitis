{
 "cells": [
  {
   "cell_type": "markdown",
   "metadata": {
    "id": "s-vHqmrmiHg7",
    "pycharm": {
     "name": "#%% md\n"
    }
   },
   "source": [
    "# MobileNetV2"
   ]
  },
  {
   "cell_type": "code",
   "execution_count": null,
   "metadata": {
    "pycharm": {
     "name": "#%%\n"
    }
   },
   "outputs": [],
   "source": [
    "import matplotlib.pyplot as plt\n",
    "import numpy as np\n",
    "import tensorflow as tf\n",
    "\n",
    "from keras import preprocessing\n",
    "from tensorflow import keras\n",
    "from keras import layers\n",
    "from keras import regularizers\n",
    "import pandas as pd\n",
    "\n",
    "import os\n",
    "\n",
    "from tensorflow import keras\n",
    "\n",
    "import tensorflow_addons as tfa\n",
    "\n",
    "from datetime import datetime\n",
    "\n",
    "from hyperas import optim\n",
    "from hyperopt import Trials, tpe\n",
    "\n",
    "import cv2\n",
    "from keras_preprocessing.image import ImageDataGenerator\n",
    "\n",
    "from sklearn.metrics import confusion_matrix"
   ]
  },
  {
   "cell_type": "code",
   "execution_count": null,
   "metadata": {
    "pycharm": {
     "name": "#%%\n"
    }
   },
   "outputs": [],
   "source": [
    "test_path = \"/Users/alexk/Documents/GitHub/Deep_Learning_for_Binary_Classification_of_Infectious_Keratitis/data\"\n",
    "x_test = []\n",
    "# Put all hyperparameters in a dictionary\n",
    "hyperparameters = {'batch_size': 128,\n",
    "                   'random_flip': 'horizontal_and_vertical',\n",
    "                   'random_rotation': (0.2),\n",
    "                   'dropout': 0.5,\n",
    "                   'L2': 0.3,\n",
    "                   'base_LR': 0.001,\n",
    "                   'initial_epochs': 20,\n",
    "                   'fine_tune_epochs': 50,\n",
    "                   'frozen_layer': 72}\n",
    "\n",
    "# Declare all necessary variables\n",
    "BATCH_SIZE = hyperparameters['batch_size']\n",
    "IMG_SIZE = (224, 224)\n",
    "path = \"/Users/alexk/Documents/GitHub/Deep_Learning_for_Binary_Classification_of_Infectious_Keratitis/data\""
   ]
  },
  {
   "cell_type": "code",
   "execution_count": null,
   "metadata": {
    "pycharm": {
     "name": "#%%\n"
    }
   },
   "outputs": [],
   "source": [
    "def listdir_nohidden(path):\n",
    "    for f in os.listdir(path):\n",
    "        if not f.startswith('.'):\n",
    "            yield f\n",
    "\n",
    "for folder in listdir_nohidden(test_path):\n",
    "\n",
    "    sub_path=test_path+\"/\"+folder\n",
    "\n",
    "    for img in listdir_nohidden(sub_path):\n",
    "\n",
    "        image_path=sub_path+\"/\"+img\n",
    "\n",
    "        img_arr=cv2.imread(image_path)\n",
    "\n",
    "        img_arr=cv2.resize(img_arr,(224,224))\n",
    "\n",
    "        x_test.append(img_arr)"
   ]
  },
  {
   "cell_type": "code",
   "execution_count": null,
   "metadata": {
    "pycharm": {
     "name": "#%%\n"
    }
   },
   "outputs": [],
   "source": [
    "#predicted_classes = np.argmax(mlpmixer_classifier.predict(X, axis = 1))\n",
    "test_datagen = ImageDataGenerator(rescale = 1./255)\n",
    "\n",
    "test_x=np.array(x_test)\n",
    "\n",
    "test_set = test_datagen.flow_from_directory(test_path,\n",
    "                                            target_size = (224, 224),\n",
    "                                            batch_size = 32,\n",
    "                                            class_mode = 'categorical')\n",
    "\n",
    "test_y=test_set.classes\n",
    "\n",
    "print(test_y.shape)"
   ]
  },
  {
   "cell_type": "code",
   "execution_count": null,
   "metadata": {
    "pycharm": {
     "name": "#%%\n"
    }
   },
   "outputs": [],
   "source": [
    "# Preprocess images to the standard for a MobileNetV2\n",
    "train_dataset = keras.preprocessing.image_dataset_from_directory(path,\n",
    "                                                                 shuffle=True,\n",
    "                                                                 subset='training',\n",
    "                                                                 seed=42,\n",
    "                                                                 batch_size=BATCH_SIZE,\n",
    "                                                                 image_size=IMG_SIZE,\n",
    "                                                                 validation_split=0.2,\n",
    "                                                                 label_mode='categorical',\n",
    "                                                                 class_names=['Bacterial', 'Fungal'])\n",
    "validation_dataset = keras.preprocessing.image_dataset_from_directory(path,\n",
    "                                                                      shuffle=True,\n",
    "                                                                      subset='validation',\n",
    "                                                                      seed=42,\n",
    "                                                                      batch_size=BATCH_SIZE,\n",
    "                                                                      validation_split=0.2,\n",
    "                                                                      image_size=IMG_SIZE,\n",
    "                                                                      label_mode='categorical',\n",
    "                                                                      class_names=['Bacterial', 'Fungal'])"
   ]
  },
  {
   "cell_type": "code",
   "execution_count": null,
   "metadata": {
    "colab": {
     "base_uri": "https://localhost:8080/",
     "height": 1000
    },
    "id": "nZ4XJmA2TGHT",
    "outputId": "98155699-5340-4c85-9647-a8b2159d63b2",
    "pycharm": {
     "name": "#%%\n"
    }
   },
   "outputs": [],
   "source": [
    "AUTOTUNE = tf.data.experimental.AUTOTUNE\n",
    "train_dataset = train_dataset.prefetch(buffer_size=AUTOTUNE)\n",
    "\n",
    "with tf.device('/job:localhost/replica:0/task:0/device:CPU:0'):\n",
    "    def data_augmenter():\n",
    "        \"\"\"\n",
    "            Create a sequential model composed of horizontal flips and random contrast adjustments\n",
    "        \"\"\"\n",
    "        data_augmentation = tf.keras.Sequential([\n",
    "            tf.keras.layers.RandomFlip(hyperparameters['random_flip']),\n",
    "            tf.keras.layers.RandomRotation(factor=hyperparameters['random_rotation'])])\n",
    "        return data_augmentation\n",
    "\n",
    "data_augmentation = data_augmenter()\n",
    "\n",
    "IMG_SHAPE = IMG_SIZE + (3,)\n",
    "conv_base = tf.keras.applications.MobileNetV2(input_shape=IMG_SHAPE,\n",
    "                                              include_top=False,\n",
    "                                              weights='imagenet')\n",
    "\n",
    "\n",
    "def MobileNetUlcerModel(image_shape=IMG_SIZE, data_augmentation=data_augmenter()):\n",
    "    # freeze the convolutional base\n",
    "    conv_base.trainable = False\n",
    "\n",
    "    # create the input layer\n",
    "    inputs = tf.keras.Input(shape=IMG_SHAPE)\n",
    "\n",
    "    # apply data augmentation to the inputs\n",
    "    x = data_augmentation(inputs)\n",
    "\n",
    "    # data preprocessing using the same weights as the original pre-trained model\n",
    "    x = tf.keras.applications.mobilenet_v2.preprocess_input(x)\n",
    "\n",
    "    # set training to False to avoid keeping track of statistics in the batch norm layer\n",
    "    x = conv_base(x, training=False)\n",
    "\n",
    "    # Add the new binary classification layers\n",
    "    # global average pooling layer\n",
    "    x = tf.keras.layers.GlobalAveragePooling2D()(x)\n",
    "\n",
    "    # include dropout for regularization effect\n",
    "    x = tf.keras.layers.Dropout(hyperparameters['dropout'])(x)\n",
    "\n",
    "    # Add binary prediction layer\n",
    "    outputs = tf.keras.layers.Dense(2, activation='softmax', kernel_regularizer=regularizers.l2(hyperparameters['L2']))(x)\n",
    "\n",
    "    # Add sigmoid output layer if necessary (use AUC for classification metric of prediction)\n",
    "\n",
    "    model = tf.keras.Model(inputs, outputs)\n",
    "\n",
    "    return model\n",
    "\n",
    "model = MobileNetUlcerModel()\n",
    "\n",
    "base_learning_rate = hyperparameters['base_LR']\n",
    "\n",
    "conv_base = model.layers[4]\n",
    "\n",
    "conv_base.trainable = True\n",
    "\n",
    "for layer in conv_base.layers[:hyperparameters['frozen_layer']]:\n",
    "    layer.trainable = False\n",
    "\n",
    "#model.summary()\n",
    "# Compile the mobilenet using an RMSprop optimizer (gradient descent based optimizer)\n",
    "#model.compile(optimizer=tf.keras.optimizers.RMSprop(learning_rate=0.1 * hyperparameters['base_LR']),\n",
    "#              loss='binary_crossentropy', # measuring the loss using the binary cross-entropy function\n",
    "#              metrics=['accuracy', 'AUC']) # metrics of accuracy are AUC and accuracy\n",
    "\n",
    "#with tf.device('/job:localhost/replica:0/task:0/device:CPU:0'):\n",
    "#    history = model.fit(train_dataset,\n",
    "#                        epochs=hyperparameters['fine_tune_epochs'],\n",
    "#                        validation_data=validation_dataset)\n",
    "\n",
    "#model.summary()\n",
    "# SGD based optimizer for MobileNetV2 (Gradient descent optimization)\n",
    "#model.compile(optimizer=tf.keras.optimizers.SGD(learning_rate=0.1 * hyperparameters['base_LR']),\n",
    "#              loss='binary_crossentropy',\n",
    "#              metrics=['accuracy', 'AUC'])\n",
    "\n",
    "#with tf.device('/job:localhost/replica:0/task:0/device:CPU:0'):\n",
    "#    history_sgd = model.fit(train_dataset,\n",
    "#                            validation_data=validation_dataset,\n",
    "#                            epochs=hyperparameters['fine_tune_epochs'])\n",
    "\n",
    "model.summary()\n",
    "#Base learning rate Adam optimized MobileNetV2\n",
    "model.compile(optimizer=tf.keras.optimizers.Adam(learning_rate=0.1 * hyperparameters['base_LR']),\n",
    "                             loss='categorical_crossentropy',\n",
    "                             metrics=['accuracy', 'AUC'])\n",
    "\n",
    "with tf.device('/job:localhost/replica:0/task:0/device:CPU:0'):\n",
    "    history_adam = model.fit(train_dataset,\n",
    "                         validation_data=validation_dataset,\n",
    "                         epochs=30)\n",
    "\n",
    "\n",
    "# Achieves a 0.9552 peak validation accuracy indicating that MobileNet can handle data augmentation\n",
    "model.summary()\n",
    "model.compile(optimizer=keras.optimizers.Adam(learning_rate=0.1 * hyperparameters['base_LR']),\n",
    "              loss='categorical_crossentropy',\n",
    "              metrics=['accuracy', 'AUC'])\n",
    "\n",
    "early_stopping = tf.keras.callbacks.EarlyStopping(\n",
    "        monitor=\"val_loss\", patience=10, restore_best_weights=True\n",
    "    )\n",
    "\n",
    "with tf.device('/job:localhost/replica:0/task:0/device:CPU:0'):\n",
    "    history_tuning = model.fit(train_dataset,\n",
    "                            epochs=hyperparameters['fine_tune_epochs'],\n",
    "                            validation_data=validation_dataset,\n",
    "                               callbacks=[early_stopping])\n",
    "\n",
    "df_loss_acc = pd.DataFrame(history_tuning.history)\n",
    "df_loss = df_loss_acc[['loss', 'val_loss']]\n",
    "df_loss.rename(columns={'loss': 'train', 'val_loss': 'validation'}, inplace=True)\n",
    "df_acc = df_loss_acc[['accuracy', 'val_accuracy']]\n",
    "df_acc.rename(columns={'accuracy': 'train', 'val_accuracy': 'validation'}, inplace=True)\n",
    "df_auc = df_loss_acc[['auc', 'val_auc']]\n",
    "df_auc.rename(columns={'auc': 'train', 'val_auc': 'validation'}, inplace=True)\n",
    "df_loss.plot(title='Model loss', figsize=(12, 8)).set(xlabel='Epoch', ylabel='Loss')\n",
    "df_auc.plot(title='Model AUC', figsize=(12, 8)).set(xlabel='Epoch', ylabel='AUC')\n",
    "df_acc.plot(title='Model Accuracy', figsize=(12, 8)).set(xlabel='Epoch', ylabel='Accuracy')\n",
    "plt.show()\n",
    "\n",
    "#model.save('/content/drive/MyDrive/Machine Learning Research Files/LeNet and MobileNetV2 For Binary Classification of Infectious Keratitis/LeNet-MobileNetV2-For-Binary-Classification-of-Infectious-Keratitis/models/MobileNet_whole_image_fine_tune')"
   ]
  },
  {
   "cell_type": "code",
   "execution_count": 58,
   "metadata": {
    "pycharm": {
     "name": "#%%\n"
    }
   },
   "outputs": [
    {
     "name": "stdout",
     "output_type": "stream",
     "text": [
      "[[174  57]\n",
      " [ 54 386]]\n",
      "0.871331828442438\n",
      "0.7631578947368421\n",
      "0.834575260804769\n"
     ]
    }
   ],
   "source": [
    "mobilenet_predicted_classes = np.argmax(model.predict(test_x), axis=1)\n",
    "mobilenet_cm = confusion_matrix(test_y, mobilenet_predicted_classes)\n",
    "print(mobilenet_cm)\n",
    "\n",
    "mobilenet_TN = mobilenet_cm[0][0]\n",
    "mobilenet_FN = mobilenet_cm[0][1]\n",
    "mobilenet_FP = mobilenet_cm[1][0]\n",
    "mobilenet_TP = mobilenet_cm[1][1]\n",
    "mobilenet_sensitivity = mobilenet_TP / (mobilenet_TP + mobilenet_FN)\n",
    "mobilenet_specificity = mobilenet_TN / (mobilenet_TN + mobilenet_FP)\n",
    "\n",
    "mobilenet_accuracy = (mobilenet_TP + mobilenet_TN) / 671\n",
    "\n",
    "print(mobilenet_sensitivity)\n",
    "print(mobilenet_specificity)\n",
    "print(mobilenet_accuracy)"
   ]
  }
 ],
 "metadata": {
  "accelerator": "GPU",
  "colab": {
   "collapsed_sections": [
    "WEV76fuBbhrR"
   ],
   "machine_shape": "hm",
   "provenance": [],
   "toc_visible": true
  },
  "kernelspec": {
   "display_name": "Python 3 (ipykernel)",
   "language": "python",
   "name": "python3"
  },
  "language_info": {
   "codemirror_mode": {
    "name": "ipython",
    "version": 3
   },
   "file_extension": ".py",
   "mimetype": "text/x-python",
   "name": "python",
   "nbconvert_exporter": "python",
   "pygments_lexer": "ipython3",
   "version": "3.8.12"
  }
 },
 "nbformat": 4,
 "nbformat_minor": 1
}
